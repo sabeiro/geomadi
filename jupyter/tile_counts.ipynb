{
 "cells": [
  {
   "cell_type": "code",
   "execution_count": 1,
   "metadata": {
    "collapsed": true
   },
   "outputs": [],
   "source": [
    "from pyspark import SparkContext, SparkConf\n",
    "from pyspark.sql import functions as funcs\n",
    "from pyspark.sql import SQLContext\n",
    "from pyspark import Row\n",
    "import os"
   ]
  },
  {
   "cell_type": "code",
   "execution_count": 2,
   "metadata": {
    "collapsed": true
   },
   "outputs": [],
   "source": [
    "os.environ[\"SPARK_HOME\"] = \"/usr/hdp/current/spark-client\"\n",
    "conf = (SparkConf().setMaster('local').setAppName('a'))"
   ]
  },
  {
   "cell_type": "code",
   "execution_count": 3,
   "metadata": {
    "collapsed": false
   },
   "outputs": [],
   "source": [
    "sc = SparkContext()\n",
    "sqlContext = SQLContext(sc)"
   ]
  },
  {
   "cell_type": "code",
   "execution_count": 4,
   "metadata": {
    "collapsed": false
   },
   "outputs": [],
   "source": [
    "\n",
    "df = sqlContext.read.parquet(\"/tdg/2017/04/11/aggregated_metrics_hessen/directions/tiles/tile_direction_hours\")"
   ]
  },
  {
   "cell_type": "code",
   "execution_count": 5,
   "metadata": {
    "collapsed": false
   },
   "outputs": [
    {
     "name": "stdout",
     "output_type": "stream",
     "text": [
      "+-------+--------+--------+---------+-------+--------+--------+---------+-------+--------+--------------+---------------+-------------+--------------+--------------+---------------+-------------+--------------+\n",
      "|tile_id|ts_start|north_in|north_out|east_in|east_out|south_in|south_out|west_in|west_out|north_in_speed|north_out_speed|east_in_speed|east_out_speed|south_in_speed|south_out_speed|west_in_speed|west_out_speed|\n",
      "+-------+--------+--------+---------+-------+--------+--------+---------+-------+--------+--------------+---------------+-------------+--------------+--------------+---------------+-------------+--------------+\n",
      "+-------+--------+--------+---------+-------+--------+--------+---------+-------+--------+--------------+---------------+-------------+--------------+--------------+---------------+-------------+--------------+\n",
      "\n"
     ]
    }
   ],
   "source": [
    "df.where(\"tile_id = 3787192\").show()"
   ]
  },
  {
   "cell_type": "code",
   "execution_count": 6,
   "metadata": {
    "collapsed": true
   },
   "outputs": [],
   "source": [
    "df = df.withColumn(\"in_total\", df.north_in + df.east_in + df.south_in + df.west_in)\n",
    "df = df.withColumn(\"out_total\", df.north_out + df.east_out + df.south_out + df.west_out)"
   ]
  },
  {
   "cell_type": "code",
   "execution_count": 7,
   "metadata": {
    "collapsed": false
   },
   "outputs": [],
   "source": [
    "df = df.withColumn(\"diff\", df.in_total - df.out_total)"
   ]
  },
  {
   "cell_type": "code",
   "execution_count": 8,
   "metadata": {
    "collapsed": false
   },
   "outputs": [
    {
     "name": "stdout",
     "output_type": "stream",
     "text": [
      "+-------+------+--------+---------+\n",
      "|tile_id|diff  |in_total|out_total|\n",
      "+-------+------+--------+---------+\n",
      "|1945745|-23280|0       |23280    |\n",
      "|1945745|-22280|0       |22280    |\n",
      "|1945745|-21859|0       |21859    |\n",
      "|1945745|-21729|0       |21729    |\n",
      "|1945745|-20080|0       |20080    |\n",
      "|1945745|-20057|0       |20057    |\n",
      "|1945745|-20047|0       |20047    |\n",
      "|1945745|-19654|0       |19654    |\n",
      "|1945745|-18517|0       |18517    |\n",
      "|1945745|-18377|0       |18377    |\n",
      "+-------+------+--------+---------+\n",
      "only showing top 10 rows\n",
      "\n"
     ]
    }
   ],
   "source": [
    "df.select(\"tile_id\", \"diff\", \"in_total\", \"out_total\").orderBy(\"diff\").show(10, False)"
   ]
  },
  {
   "cell_type": "code",
   "execution_count": 9,
   "metadata": {
    "collapsed": false
   },
   "outputs": [
    {
     "name": "stdout",
     "output_type": "stream",
     "text": [
      "+-------+--------------------+--------+---------+-------+--------+--------+---------+-------+--------+------------------+------------------+------------------+-----------------+--------------+---------------+-----------------+-----------------+--------+---------+-----+\n",
      "|tile_id|            ts_start|north_in|north_out|east_in|east_out|south_in|south_out|west_in|west_out|    north_in_speed|   north_out_speed|     east_in_speed|   east_out_speed|south_in_speed|south_out_speed|    west_in_speed|   west_out_speed|in_total|out_total| diff|\n",
      "+-------+--------------------+--------+---------+-------+--------+--------+---------+-------+--------+------------------+------------------+------------------+-----------------+--------------+---------------+-----------------+-----------------+--------+---------+-----+\n",
      "|5656465|2017-04-11T06:00:...|       0|     1242|      0|       0|       0|        0|      0|       0|               0.0|114.20132894246451|               0.0|              0.0|           0.0|            0.0|              0.0|              0.0|       0|     1242|-1242|\n",
      "|2418008|2017-04-11T11:00:...|       0|        0|      0|       0|       0|        0|   6820|       0|               0.0|               0.0|               0.0|              0.0|           0.0|            0.0| 53.2596066505755|              0.0|    6820|        0| 6820|\n",
      "|5400816|2017-04-11T04:00:...|       0|        0|      0|       0|       0|        0|      0|     577|               0.0|               0.0|               0.0|              0.0|           0.0|            0.0|              0.0|93.06486660634353|       0|      577| -577|\n",
      "|1244606|2017-04-11T21:00:...|       0|        0|   1500|       0|       0|        0|      0|       0|               0.0|               0.0| 88.82614456628934|              0.0|           0.0|            0.0|              0.0|              0.0|    1500|        0| 1500|\n",
      "|1675303|2017-04-11T06:00:...|       0|        0|      0|       0|       0|        0|      0|    3882|               0.0|               0.0|               0.0|              0.0|           0.0|            0.0|              0.0|74.92992236953465|       0|     3882|-3882|\n",
      "|5656465|2017-04-11T05:00:...|       0|      807|      0|       0|       0|        0|      0|       0|               0.0|110.05940647096718|               0.0|              0.0|           0.0|            0.0|              0.0|              0.0|       0|      807| -807|\n",
      "|2418008|2017-04-11T10:00:...|       0|        0|      0|       0|       0|        0|   6582|       0|               0.0|               0.0|               0.0|              0.0|           0.0|            0.0| 54.2499595489972|              0.0|    6582|        0| 6582|\n",
      "|1244606|2017-04-11T20:00:...|       0|        0|   2002|       0|       0|        0|      0|       0|               0.0|               0.0|101.84543466780718|              0.0|           0.0|            0.0|              0.0|              0.0|    2002|        0| 2002|\n",
      "|1675303|2017-04-11T05:00:...|       0|        0|      0|       0|       0|        0|      0|    2350|               0.0|               0.0|               0.0|              0.0|           0.0|            0.0|              0.0| 78.1373349801802|       0|     2350|-2350|\n",
      "|5656465|2017-04-11T04:00:...|       0|      412|      0|       0|       0|        0|      0|       0|               0.0|114.65252400676646|               0.0|              0.0|           0.0|            0.0|              0.0|              0.0|       0|      412| -412|\n",
      "|1675303|2017-04-11T04:00:...|       0|        0|      0|       0|       0|        0|      0|     942|               0.0|               0.0|               0.0|              0.0|           0.0|            0.0|              0.0|79.43188876108815|       0|      942| -942|\n",
      "|4372651|2017-04-11T19:00:...|      47|       72|      0|       0|       0|        0|      0|       0|10.348246052813444| 30.25066947349823|               0.0|              0.0|           0.0|            0.0|              0.0|              0.0|      47|       72|  -25|\n",
      "|1373240|2017-04-12T01:00:...|      42|       17|      0|       0|       0|        0|      0|       0| 50.38673082400122|43.449267644893396|               0.0|              0.0|           0.0|            0.0|              0.0|              0.0|      42|       17|   25|\n",
      "|4372651|2017-04-11T18:00:...|      75|       55|      0|       0|       0|        0|      0|       0|23.454590997986486| 27.71317706405398|               0.0|              0.0|           0.0|            0.0|              0.0|              0.0|      75|       55|   20|\n",
      "|1373240|2017-04-12T00:00:...|      20|       15|      0|       0|       0|        0|      0|       0|59.080945103190096| 65.34783520227747|               0.0|              0.0|           0.0|            0.0|              0.0|              0.0|      20|       15|    5|\n",
      "|1803175|2017-04-11T23:00:...|       0|     1565|      0|       0|       0|        0|      0|       0|               0.0| 90.47933046435543|               0.0|              0.0|           0.0|            0.0|              0.0|              0.0|       0|     1565|-1565|\n",
      "|5822827|2017-04-11T19:00:...|       0|        0|    342|     437|       0|        0|      0|       0|               0.0|               0.0|  86.8359401084089|83.24697437258013|           0.0|            0.0|              0.0|              0.0|     342|      437|  -95|\n",
      "|2018845|2017-04-11T08:00:...|       0|        0|      0|       0|       0|        0|   8420|       0|               0.0|               0.0|               0.0|              0.0|           0.0|            0.0|83.67896171349962|              0.0|    8420|        0| 8420|\n",
      "|1803175|2017-04-11T22:00:...|       0|     2312|      0|       0|       0|        0|      0|       0|               0.0| 94.42055922829557|               0.0|              0.0|           0.0|            0.0|              0.0|              0.0|       0|     2312|-2312|\n",
      "|1373240|2017-04-11T16:00:...|     222|       92|      0|       0|       0|        0|      0|       0| 59.63896842866452| 40.62153026754298|               0.0|              0.0|           0.0|            0.0|              0.0|              0.0|     222|       92|  130|\n",
      "+-------+--------------------+--------+---------+-------+--------+--------+---------+-------+--------+------------------+------------------+------------------+-----------------+--------------+---------------+-----------------+-----------------+--------+---------+-----+\n",
      "only showing top 20 rows\n",
      "\n"
     ]
    }
   ],
   "source": [
    "import pandas as pd\n",
    "import numpy as np\n",
    "from pyspark.sql.functions import col\n",
    "tileL = pd.read_csv(\"tileList.csv\")\n",
    "t = np.unique(tileL['tile_id'])\n",
    "ddf = df.where(col('tile_id').isin(list(t)))\n",
    "ddf.show()\n"
   ]
  },
  {
   "cell_type": "code",
   "execution_count": 18,
   "metadata": {
    "collapsed": false
   },
   "outputs": [
    {
     "ename": "Py4JError",
     "evalue": "An error occurred while calling o1541.option. Trace:\npy4j.Py4JException: Method option([class java.lang.String, class java.lang.Boolean]) does not exist\n\tat py4j.reflection.ReflectionEngine.getMethod(ReflectionEngine.java:335)\n\tat py4j.reflection.ReflectionEngine.getMethod(ReflectionEngine.java:344)\n\tat py4j.Gateway.invoke(Gateway.java:252)\n\tat py4j.commands.AbstractCommand.invokeMethod(AbstractCommand.java:133)\n\tat py4j.commands.CallCommand.execute(CallCommand.java:79)\n\tat py4j.GatewayConnection.run(GatewayConnection.java:209)\n\tat java.lang.Thread.run(Thread.java:745)\n\n",
     "output_type": "error",
     "traceback": [
      "\u001b[0;31m---------------------------------------------------------------------------\u001b[0m",
      "\u001b[0;31mPy4JError\u001b[0m                                 Traceback (most recent call last)",
      "\u001b[0;32m<ipython-input-18-4f369d9d83cd>\u001b[0m in \u001b[0;36m<module>\u001b[0;34m()\u001b[0m\n\u001b[1;32m      3\u001b[0m \u001b[0;32mfrom\u001b[0m \u001b[0mpyspark\u001b[0m\u001b[0;34m.\u001b[0m\u001b[0msql\u001b[0m\u001b[0;34m.\u001b[0m\u001b[0mfunctions\u001b[0m \u001b[0;32mimport\u001b[0m \u001b[0mcol\u001b[0m\u001b[0;34m,\u001b[0m \u001b[0mudf\u001b[0m\u001b[0;34m\u001b[0m\u001b[0m\n\u001b[1;32m      4\u001b[0m \u001b[0;34m\u001b[0m\u001b[0m\n\u001b[0;32m----> 5\u001b[0;31m \u001b[0mddf\u001b[0m\u001b[0;34m.\u001b[0m\u001b[0mcoalesce\u001b[0m\u001b[0;34m(\u001b[0m\u001b[0;36m1\u001b[0m\u001b[0;34m)\u001b[0m\u001b[0;34m.\u001b[0m\u001b[0mwrite\u001b[0m\u001b[0;34m.\u001b[0m\u001b[0mmode\u001b[0m\u001b[0;34m(\u001b[0m\u001b[0;34m\"overwrite\"\u001b[0m\u001b[0;34m)\u001b[0m\u001b[0;34m.\u001b[0m\u001b[0mformat\u001b[0m\u001b[0;34m(\u001b[0m\u001b[0;34m'com.databricks.spark.csv'\u001b[0m\u001b[0;34m)\u001b[0m\u001b[0;34m.\u001b[0m\u001b[0msave\u001b[0m\u001b[0;34m(\u001b[0m\u001b[0;34m\"tileCounts.csv\"\u001b[0m\u001b[0;34m,\u001b[0m\u001b[0mheader\u001b[0m\u001b[0;34m=\u001b[0m\u001b[0mTrue\u001b[0m\u001b[0;34m)\u001b[0m\u001b[0;34m\u001b[0m\u001b[0m\n\u001b[0m",
      "\u001b[0;32m/usr/hdp/current/spark-client/python/pyspark/sql/readwriter.pyc\u001b[0m in \u001b[0;36msave\u001b[0;34m(self, path, format, mode, partitionBy, **options)\u001b[0m\n\u001b[1;32m    387\u001b[0m         \u001b[0;34m>>\u001b[0m\u001b[0;34m>\u001b[0m \u001b[0mdf\u001b[0m\u001b[0;34m.\u001b[0m\u001b[0mwrite\u001b[0m\u001b[0;34m.\u001b[0m\u001b[0mmode\u001b[0m\u001b[0;34m(\u001b[0m\u001b[0;34m'append'\u001b[0m\u001b[0;34m)\u001b[0m\u001b[0;34m.\u001b[0m\u001b[0mparquet\u001b[0m\u001b[0;34m(\u001b[0m\u001b[0mos\u001b[0m\u001b[0;34m.\u001b[0m\u001b[0mpath\u001b[0m\u001b[0;34m.\u001b[0m\u001b[0mjoin\u001b[0m\u001b[0;34m(\u001b[0m\u001b[0mtempfile\u001b[0m\u001b[0;34m.\u001b[0m\u001b[0mmkdtemp\u001b[0m\u001b[0;34m(\u001b[0m\u001b[0;34m)\u001b[0m\u001b[0;34m,\u001b[0m \u001b[0;34m'data'\u001b[0m\u001b[0;34m)\u001b[0m\u001b[0;34m)\u001b[0m\u001b[0;34m\u001b[0m\u001b[0m\n\u001b[1;32m    388\u001b[0m         \"\"\"\n\u001b[0;32m--> 389\u001b[0;31m         \u001b[0mself\u001b[0m\u001b[0;34m.\u001b[0m\u001b[0mmode\u001b[0m\u001b[0;34m(\u001b[0m\u001b[0mmode\u001b[0m\u001b[0;34m)\u001b[0m\u001b[0;34m.\u001b[0m\u001b[0moptions\u001b[0m\u001b[0;34m(\u001b[0m\u001b[0;34m**\u001b[0m\u001b[0moptions\u001b[0m\u001b[0;34m)\u001b[0m\u001b[0;34m\u001b[0m\u001b[0m\n\u001b[0m\u001b[1;32m    390\u001b[0m         \u001b[0;32mif\u001b[0m \u001b[0mpartitionBy\u001b[0m \u001b[0;32mis\u001b[0m \u001b[0;32mnot\u001b[0m \u001b[0mNone\u001b[0m\u001b[0;34m:\u001b[0m\u001b[0;34m\u001b[0m\u001b[0m\n\u001b[1;32m    391\u001b[0m             \u001b[0mself\u001b[0m\u001b[0;34m.\u001b[0m\u001b[0mpartitionBy\u001b[0m\u001b[0;34m(\u001b[0m\u001b[0mpartitionBy\u001b[0m\u001b[0;34m)\u001b[0m\u001b[0;34m\u001b[0m\u001b[0m\n",
      "\u001b[0;32m/usr/hdp/current/spark-client/python/pyspark/sql/readwriter.pyc\u001b[0m in \u001b[0;36moptions\u001b[0;34m(self, **options)\u001b[0m\n\u001b[1;32m    347\u001b[0m         \"\"\"\n\u001b[1;32m    348\u001b[0m         \u001b[0;32mfor\u001b[0m \u001b[0mk\u001b[0m \u001b[0;32min\u001b[0m \u001b[0moptions\u001b[0m\u001b[0;34m:\u001b[0m\u001b[0;34m\u001b[0m\u001b[0m\n\u001b[0;32m--> 349\u001b[0;31m             \u001b[0mself\u001b[0m\u001b[0;34m.\u001b[0m\u001b[0m_jwrite\u001b[0m \u001b[0;34m=\u001b[0m \u001b[0mself\u001b[0m\u001b[0;34m.\u001b[0m\u001b[0m_jwrite\u001b[0m\u001b[0;34m.\u001b[0m\u001b[0moption\u001b[0m\u001b[0;34m(\u001b[0m\u001b[0mk\u001b[0m\u001b[0;34m,\u001b[0m \u001b[0moptions\u001b[0m\u001b[0;34m[\u001b[0m\u001b[0mk\u001b[0m\u001b[0;34m]\u001b[0m\u001b[0;34m)\u001b[0m\u001b[0;34m\u001b[0m\u001b[0m\n\u001b[0m\u001b[1;32m    350\u001b[0m         \u001b[0;32mreturn\u001b[0m \u001b[0mself\u001b[0m\u001b[0;34m\u001b[0m\u001b[0m\n\u001b[1;32m    351\u001b[0m \u001b[0;34m\u001b[0m\u001b[0m\n",
      "\u001b[0;32m/usr/local/lib/python2.7/dist-packages/py4j/java_gateway.pyc\u001b[0m in \u001b[0;36m__call__\u001b[0;34m(self, *args)\u001b[0m\n\u001b[1;32m   1158\u001b[0m         \u001b[0manswer\u001b[0m \u001b[0;34m=\u001b[0m \u001b[0mself\u001b[0m\u001b[0;34m.\u001b[0m\u001b[0mgateway_client\u001b[0m\u001b[0;34m.\u001b[0m\u001b[0msend_command\u001b[0m\u001b[0;34m(\u001b[0m\u001b[0mcommand\u001b[0m\u001b[0;34m)\u001b[0m\u001b[0;34m\u001b[0m\u001b[0m\n\u001b[1;32m   1159\u001b[0m         return_value = get_return_value(\n\u001b[0;32m-> 1160\u001b[0;31m             answer, self.gateway_client, self.target_id, self.name)\n\u001b[0m\u001b[1;32m   1161\u001b[0m \u001b[0;34m\u001b[0m\u001b[0m\n\u001b[1;32m   1162\u001b[0m         \u001b[0;32mfor\u001b[0m \u001b[0mtemp_arg\u001b[0m \u001b[0;32min\u001b[0m \u001b[0mtemp_args\u001b[0m\u001b[0;34m:\u001b[0m\u001b[0;34m\u001b[0m\u001b[0m\n",
      "\u001b[0;32m/usr/hdp/current/spark-client/python/pyspark/sql/utils.pyc\u001b[0m in \u001b[0;36mdeco\u001b[0;34m(*a, **kw)\u001b[0m\n\u001b[1;32m     43\u001b[0m     \u001b[0;32mdef\u001b[0m \u001b[0mdeco\u001b[0m\u001b[0;34m(\u001b[0m\u001b[0;34m*\u001b[0m\u001b[0ma\u001b[0m\u001b[0;34m,\u001b[0m \u001b[0;34m**\u001b[0m\u001b[0mkw\u001b[0m\u001b[0;34m)\u001b[0m\u001b[0;34m:\u001b[0m\u001b[0;34m\u001b[0m\u001b[0m\n\u001b[1;32m     44\u001b[0m         \u001b[0;32mtry\u001b[0m\u001b[0;34m:\u001b[0m\u001b[0;34m\u001b[0m\u001b[0m\n\u001b[0;32m---> 45\u001b[0;31m             \u001b[0;32mreturn\u001b[0m \u001b[0mf\u001b[0m\u001b[0;34m(\u001b[0m\u001b[0;34m*\u001b[0m\u001b[0ma\u001b[0m\u001b[0;34m,\u001b[0m \u001b[0;34m**\u001b[0m\u001b[0mkw\u001b[0m\u001b[0;34m)\u001b[0m\u001b[0;34m\u001b[0m\u001b[0m\n\u001b[0m\u001b[1;32m     46\u001b[0m         \u001b[0;32mexcept\u001b[0m \u001b[0mpy4j\u001b[0m\u001b[0;34m.\u001b[0m\u001b[0mprotocol\u001b[0m\u001b[0;34m.\u001b[0m\u001b[0mPy4JJavaError\u001b[0m \u001b[0;32mas\u001b[0m \u001b[0me\u001b[0m\u001b[0;34m:\u001b[0m\u001b[0;34m\u001b[0m\u001b[0m\n\u001b[1;32m     47\u001b[0m             \u001b[0ms\u001b[0m \u001b[0;34m=\u001b[0m \u001b[0me\u001b[0m\u001b[0;34m.\u001b[0m\u001b[0mjava_exception\u001b[0m\u001b[0;34m.\u001b[0m\u001b[0mtoString\u001b[0m\u001b[0;34m(\u001b[0m\u001b[0;34m)\u001b[0m\u001b[0;34m\u001b[0m\u001b[0m\n",
      "\u001b[0;32m/usr/local/lib/python2.7/dist-packages/py4j/protocol.pyc\u001b[0m in \u001b[0;36mget_return_value\u001b[0;34m(answer, gateway_client, target_id, name)\u001b[0m\n\u001b[1;32m    322\u001b[0m                 raise Py4JError(\n\u001b[1;32m    323\u001b[0m                     \u001b[0;34m\"An error occurred while calling {0}{1}{2}. Trace:\\n{3}\\n\"\u001b[0m\u001b[0;34m.\u001b[0m\u001b[0;34m\u001b[0m\u001b[0m\n\u001b[0;32m--> 324\u001b[0;31m                     format(target_id, \".\", name, value))\n\u001b[0m\u001b[1;32m    325\u001b[0m         \u001b[0;32melse\u001b[0m\u001b[0;34m:\u001b[0m\u001b[0;34m\u001b[0m\u001b[0m\n\u001b[1;32m    326\u001b[0m             raise Py4JError(\n",
      "\u001b[0;31mPy4JError\u001b[0m: An error occurred while calling o1541.option. Trace:\npy4j.Py4JException: Method option([class java.lang.String, class java.lang.Boolean]) does not exist\n\tat py4j.reflection.ReflectionEngine.getMethod(ReflectionEngine.java:335)\n\tat py4j.reflection.ReflectionEngine.getMethod(ReflectionEngine.java:344)\n\tat py4j.Gateway.invoke(Gateway.java:252)\n\tat py4j.commands.AbstractCommand.invokeMethod(AbstractCommand.java:133)\n\tat py4j.commands.CallCommand.execute(CallCommand.java:79)\n\tat py4j.GatewayConnection.run(GatewayConnection.java:209)\n\tat java.lang.Thread.run(Thread.java:745)\n\n"
     ]
    }
   ],
   "source": [
    "#ddf.repartition(1).write.format(\"com.databricks.spark.csv\").save(\"tileCounts.csv\",header=True)\n",
    "from pyspark.sql.types import *\n",
    "from pyspark.sql.functions import col, udf\n",
    "ddf.coalesce(1).write.mode(\"overwrite\").format('com.databricks.spark.csv').save(\"tileCounts.csv\",header=True)"
   ]
  },
  {
   "cell_type": "code",
   "execution_count": 10,
   "metadata": {
    "collapsed": true
   },
   "outputs": [],
   "source": [
    "zipD = ddf.toPandas()\n",
    "zipD.to_csv(\"tileCounts.csv\",index=False)"
   ]
  },
  {
   "cell_type": "code",
   "execution_count": null,
   "metadata": {
    "collapsed": true
   },
   "outputs": [],
   "source": []
  }
 ],
 "metadata": {
  "kernelspec": {
   "display_name": "Python 2",
   "language": "python",
   "name": "python2"
  },
  "language_info": {
   "codemirror_mode": {
    "name": "ipython",
    "version": 2
   },
   "file_extension": ".py",
   "mimetype": "text/x-python",
   "name": "python",
   "nbconvert_exporter": "python",
   "pygments_lexer": "ipython2",
   "version": "2.7.6"
  }
 },
 "nbformat": 4,
 "nbformat_minor": 1
}
