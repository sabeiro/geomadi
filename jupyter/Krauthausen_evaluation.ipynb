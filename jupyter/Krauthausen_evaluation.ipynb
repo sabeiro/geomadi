{
 "cells": [
  {
   "cell_type": "code",
   "execution_count": 1,
   "metadata": {},
   "outputs": [],
   "source": [
    "import random\n",
    "from pyspark import SparkContext, SparkConf\n",
    "from pyspark.sql import functions as funcs\n",
    "from pyspark.sql import SQLContext\n",
    "from pyspark import Row\n",
    "import os\n",
    "from pyspark.sql.types import StringType, StructType, StructField, LongType, IntegerType, MapType, ArrayType\n",
    "\n",
    "os.environ[\"SPARK_HOME\"] = \"/usr/hdp/current/spark-client\"\n",
    "conf = (SparkConf()\n",
    "    .setMaster(\"yarn-client\")\n",
    "    .setAppName(\"Max' Data Checker\")\n",
    "    .set(\"spark.deploy-mode\", \"cluster\")\n",
    "       .set(\"spark.executor.mempory\", \"20g\")\n",
    "       .set(\"spark.yarn.executor.memoryOverhead\", \"16000\")\n",
    "       .set(\"spark.executor.cores\", \"2\")\n",
    "       .set(\"spark.executor.instances\", \"3\"))\n",
    "\n",
    "sc = SparkContext(conf=conf)\n",
    "sqlc = SQLContext(sc)"
   ]
  },
  {
   "cell_type": "code",
   "execution_count": 2,
   "metadata": {},
   "outputs": [],
   "source": [
    "data = sqlc.read.parquet('/tdg/2017/09/12/paths_krauthausen')"
   ]
  },
  {
   "cell_type": "code",
   "execution_count": 3,
   "metadata": {},
   "outputs": [],
   "source": [
    "#data.printSchema()\n",
    "nodes_udf = funcs.udf(lambda x: [e[0] for e in x], ArrayType(LongType()))\n",
    "data = data.withColumn('nodes', nodes_udf(data['Trajectory']))\n",
    "\n",
    "node_list = {\n",
    "    124058897, 124059039, 160331013, 160331076, 1621251869, 203900652, 2138017204, 254286933,\n",
    "    270561097, 270561110, 287036644, 287036660, 287037232, 287037232, 287037249, 3261906723,\n",
    "    4060138780, 4755922518, 4755922520, 4755922622, 485951, 573644828, 95732362, 95732395, 95732400\n",
    "}\n",
    "\n",
    "def intersect(column):\n",
    "    intersec = set(column).intersection(node_list)\n",
    "    if len(intersec) > 0:\n",
    "        return intersec.pop()\n",
    "    return 0\n",
    "\n",
    "visit_udf = funcs.udf(intersect, LongType())\n",
    "data = data.withColumn('junction', visit_udf(data['nodes']))"
   ]
  },
  {
   "cell_type": "code",
   "execution_count": 4,
   "metadata": {},
   "outputs": [
    {
     "name": "stdout",
     "output_type": "stream",
     "text": [
      "+----------+-------+\n",
      "|junction  |count  |\n",
      "+----------+-------+\n",
      "|287037232 |17130  |\n",
      "|287036644 |855    |\n",
      "|287037249 |3343   |\n",
      "|203900652 |1      |\n",
      "|1621251869|2      |\n",
      "|160331076 |84     |\n",
      "|124058897 |1881   |\n",
      "|270561110 |37     |\n",
      "|485951    |26     |\n",
      "|95732362  |77     |\n",
      "|0         |1508817|\n",
      "|95732400  |6178   |\n",
      "|160331013 |12     |\n",
      "|3261906723|18641  |\n",
      "+----------+-------+\n",
      "\n"
     ]
    }
   ],
   "source": [
    "data.groupby('junction').count().show(30, False)"
   ]
  },
  {
   "cell_type": "code",
   "execution_count": null,
   "metadata": {
    "collapsed": true
   },
   "outputs": [],
   "source": [
    "# junctions\n",
    "a4_38 = [1683859870, 1683859885, 1683859934, 1683859935, 17189158, 17189164, 2001345877, 2692662933, 32465907, 3259760022, 3868237655, 424137325, 4258060190, 484850, 484852, 484857]\n",
    "a4_39 = [302786121, 310275243, 550276846, 601661588]\n",
    "a4_40a = [308852506, 308852512, 3260363980, 3260363984, 425458183, 425458298, 425458369]"
   ]
  },
  {
   "cell_type": "code",
   "execution_count": 5,
   "metadata": {},
   "outputs": [],
   "source": [
    "via_df = sqlc.read.parquet('/tdg/2018/custom_aggregations/odm_result/custom_odm_result_application_1534866846680_0064')"
   ]
  },
  {
   "cell_type": "code",
   "execution_count": 7,
   "metadata": {},
   "outputs": [
    {
     "name": "stdout",
     "output_type": "stream",
     "text": [
      "+---------+-------+\n",
      "|location |count  |\n",
      "+---------+-------+\n",
      "|entry_32 |16145.0|\n",
      "|entry_33 |6980.0 |\n",
      "|entry_34 |12825.0|\n",
      "|entry_35 |4805.0 |\n",
      "|entry_36 |14660.0|\n",
      "|entry_56a|43415.0|\n",
      "|entry_37 |4160.0 |\n",
      "|entry_38 |7837.5 |\n",
      "|entry_56b|7300.0 |\n",
      "|entry_39 |11027.5|\n",
      "|exit_56a |41087.5|\n",
      "|exit_56b |8915.0 |\n",
      "|exit_32  |19092.5|\n",
      "|exit_33  |9860.0 |\n",
      "|exit_34  |8860.0 |\n",
      "|exit_35  |3837.5 |\n",
      "|exit_36  |18860.0|\n",
      "|entry_42 |12870.0|\n",
      "|exit_37  |6242.5 |\n",
      "|entry_43 |3217.5 |\n",
      "|exit_38  |8867.5 |\n",
      "|entry_44 |7602.5 |\n",
      "|exit_39  |9505.0 |\n",
      "|entry_45 |15932.5|\n",
      "|entry_46 |3897.5 |\n",
      "|entry_48 |5962.5 |\n",
      "|entry_49 |12555.0|\n",
      "|exit_42  |14585.0|\n",
      "|entry_40a|8230.0 |\n",
      "|exit_43  |3542.5 |\n",
      "|exit_44  |4612.5 |\n",
      "|entry_40b|5157.5 |\n",
      "|exit_45  |21585.0|\n",
      "|entry_50 |10025.0|\n",
      "|entry_51 |8910.0 |\n",
      "|exit_46  |4887.5 |\n",
      "|entry_52 |4820.0 |\n",
      "|entry_53 |9397.5 |\n",
      "|exit_48  |6910.0 |\n",
      "|entry_54 |17277.5|\n",
      "|exit_40a |4045.0 |\n",
      "|exit_49  |10687.5|\n",
      "|entry_55 |11995.0|\n",
      "|exit_40b |3732.5 |\n",
      "|entry_58a|8635.0 |\n",
      "|entry_57 |5725.0 |\n",
      "|entry_58b|6357.5 |\n",
      "|entry_59 |4747.5 |\n",
      "|exit_58a |8345.0 |\n",
      "|exit_58b |5857.5 |\n",
      "|entry_47a|4067.5 |\n",
      "|entry_47b|8232.5 |\n",
      "|exit_47a |4782.5 |\n",
      "|exit_47b |7322.5 |\n",
      "|exit_50  |10442.5|\n",
      "|exit_51  |8595.0 |\n",
      "|exit_52  |3152.5 |\n",
      "|entry_41a|5930.0 |\n",
      "|exit_53  |10700.0|\n",
      "|exit_54  |11955.0|\n",
      "+---------+-------+\n",
      "only showing top 60 rows\n",
      "\n"
     ]
    }
   ],
   "source": [
    "via_df.show(60, False)"
   ]
  },
  {
   "cell_type": "code",
   "execution_count": null,
   "metadata": {},
   "outputs": [],
   "source": []
  }
 ],
 "metadata": {
  "kernelspec": {
   "display_name": "Python 2",
   "language": "python",
   "name": "python2"
  },
  "language_info": {
   "codemirror_mode": {
    "name": "ipython",
    "version": 2
   },
   "file_extension": ".py",
   "mimetype": "text/x-python",
   "name": "python",
   "nbconvert_exporter": "python",
   "pygments_lexer": "ipython2",
   "version": "2.7.12"
  }
 },
 "nbformat": 4,
 "nbformat_minor": 1
}
