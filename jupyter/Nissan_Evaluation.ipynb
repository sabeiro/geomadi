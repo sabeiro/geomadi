{
 "cells": [
  {
   "cell_type": "code",
   "execution_count": 1,
   "metadata": {},
   "outputs": [],
   "source": [
    "import random\n",
    "import pyspark\n",
    "from pyspark import SparkContext, SparkConf\n",
    "from pyspark.sql import functions as funcs\n",
    "from pyspark.sql import SQLContext\n",
    "from pyspark import Row\n",
    "import os\n",
    "from pyspark.sql.types import StringType, StructType, StructField, LongType, IntegerType, MapType, FloatType\n",
    "from pyspark import accumulators\n",
    "\n",
    "os.environ[\"SPARK_HOME\"] = \"/usr/hdp/current/spark-client\"\n",
    "conf = SparkConf()\n",
    "conf.setMaster('yarn-client')\n",
    "conf.setAppName('Max Data Checker')\n",
    "conf.set(\"spark.executor.memory\", \"15g\")\n",
    "conf.set(\"spark.driver.memory\", \"40g\")\n",
    "conf.set(\"spark.driver.maxResultSize\", \"40g\")\n",
    "conf.set(\"spark.executor.cores\", \"2\")\n",
    "conf.set(\"spark.executor.instances\", \"5\")\n",
    "\n",
    "try:\n",
    "    sc.stop()\n",
    "except:\n",
    "    sc = SparkContext(conf=conf)\n",
    "    sqlContext = SQLContext(sc)"
   ]
  },
  {
   "cell_type": "code",
   "execution_count": null,
   "metadata": {},
   "outputs": [],
   "source": [
    "df = sqlContext.read.parquet('/tdg/2018/custom_aggregations/odm_result/custom_odm_result_application_1534866846680_0078')"
   ]
  },
  {
   "cell_type": "code",
   "execution_count": null,
   "metadata": {},
   "outputs": [],
   "source": [
    "import pyspark.sql.types as T\n",
    "df = df.withColumn('locs', funcs.udf(lambda x: x.split(';'), T.ArrayType(StringType()))(df['location']))\n",
    "df = df.withColumn('OD', funcs.udf(lambda x: str(x[0])[-3:] == str(x[-1])[-3:], T.BooleanType())(df['locs']))\n",
    "df = df.withColumn('en_ex', funcs.udf(lambda x: str(x[0])[:2] == 'en' and str(x[-1])[:2] == 'ex', T.BooleanType())(df['locs']))\n",
    "df = df.withColumn('len', funcs.size(df['locs']))"
   ]
  },
  {
   "cell_type": "code",
   "execution_count": null,
   "metadata": {},
   "outputs": [],
   "source": [
    "print 'All round trips: '\n",
    "df.groupby('OD').sum().show()"
   ]
  },
  {
   "cell_type": "code",
   "execution_count": null,
   "metadata": {},
   "outputs": [],
   "source": [
    "df.show()"
   ]
  },
  {
   "cell_type": "code",
   "execution_count": 50,
   "metadata": {},
   "outputs": [
    {
     "name": "stdout",
     "output_type": "stream",
     "text": [
      "Entry->exit trips:\n",
      "+-----+----------+--------+\n",
      "|en_ex|sum(count)|sum(len)|\n",
      "+-----+----------+--------+\n",
      "| true|   95617.5|   49750|\n",
      "|false|  140940.0|   78275|\n",
      "+-----+----------+--------+\n",
      "\n"
     ]
    }
   ],
   "source": [
    "print 'Entry->exit trips:'\n",
    "df.groupby('en_ex').sum().show()"
   ]
  },
  {
   "cell_type": "code",
   "execution_count": 51,
   "metadata": {},
   "outputs": [
    {
     "name": "stdout",
     "output_type": "stream",
     "text": [
      "Without exit->entry round trips: \n",
      "+-------------+----------+--------+\n",
      "|(OD && en_ex)|sum(count)|sum(len)|\n",
      "+-------------+----------+--------+\n",
      "|         true|   10240.0|    4013|\n",
      "|        false|  226317.5|  124012|\n",
      "+-------------+----------+--------+\n",
      "\n"
     ]
    }
   ],
   "source": [
    "print 'Without exit->entry round trips: '\n",
    "df.groupby(df['OD'] & df['en_ex']).sum().show()"
   ]
  },
  {
   "cell_type": "code",
   "execution_count": 52,
   "metadata": {},
   "outputs": [
    {
     "name": "stdout",
     "output_type": "stream",
     "text": [
      "+---+----------+--------+\n",
      "|len|sum(count)|sum(len)|\n",
      "+---+----------+--------+\n",
      "|  1|   61530.0|      76|\n",
      "+---+----------+--------+\n",
      "\n",
      "+---+----------+--------+\n",
      "|len|sum(count)|sum(len)|\n",
      "+---+----------+--------+\n",
      "|  2|   71850.0|    2704|\n",
      "+---+----------+--------+\n",
      "\n",
      "+----------+\n",
      "|sum(count)|\n",
      "+----------+\n",
      "|  103177.5|\n",
      "+----------+\n",
      "\n"
     ]
    }
   ],
   "source": [
    "df.where('len < 2').groupby('len').sum().show()\n",
    "df.where('len = 2').groupby('len').sum().show()\n",
    "df.where('len > 2').groupby().sum().select('sum(count)').show()"
   ]
  },
  {
   "cell_type": "code",
   "execution_count": 53,
   "metadata": {},
   "outputs": [
    {
     "name": "stdout",
     "output_type": "stream",
     "text": [
      "1557084\n"
     ]
    }
   ],
   "source": [
    "paths = sqlContext.read.parquet('/tdg/2017/09/12/paths_krauthausen')\n",
    "print paths.count()"
   ]
  },
  {
   "cell_type": "code",
   "execution_count": 54,
   "metadata": {},
   "outputs": [
    {
     "name": "stdout",
     "output_type": "stream",
     "text": [
      "+--------------------+----------+--------+\n",
      "|            location|sum(count)|sum(len)|\n",
      "+--------------------+----------+--------+\n",
      "|exit_36;entry_36;...|       5.0|       4|\n",
      "|entry_59;exit_61;...|       2.5|       4|\n",
      "|exit_34;entry_34;...|       2.5|       5|\n",
      "|entry_62;exit_63;...|       2.5|       7|\n",
      "|exit_36;entry_40a...|       2.5|       9|\n",
      "|exit_41a;entry_40...|       2.5|       6|\n",
      "|  entry_58b;exit_58a|     150.0|       2|\n",
      "|entry_49;exit_56a...|      25.0|       3|\n",
      "|entry_34;exit_36;...|       2.5|       8|\n",
      "|entry_62;exit_58b...|      22.5|       4|\n",
      "|entry_56a;exit_51...|       2.5|       8|\n",
      "|exit_36;entry_36;...|       5.0|       6|\n",
      "|entry_45;exit_32;...|       2.5|       4|\n",
      "|exit_33;entry_33;...|       2.5|       7|\n",
      "|exit_36;entry_36;...|      10.0|       5|\n",
      "|entry_56a;exit_42...|       7.5|       5|\n",
      "|exit_62;entry_62;...|       2.5|       5|\n",
      "|   entry_41a;exit_61|       5.0|       2|\n",
      "|exit_33;entry_33;...|       2.5|      12|\n",
      "|entry_56b;exit_51...|       2.5|       7|\n",
      "+--------------------+----------+--------+\n",
      "only showing top 20 rows\n",
      "\n"
     ]
    }
   ],
   "source": [
    "df.groupby('location').sum().show()"
   ]
  },
  {
   "cell_type": "code",
   "execution_count": 55,
   "metadata": {},
   "outputs": [
    {
     "name": "stdout",
     "output_type": "stream",
     "text": [
      "+-----------------+----------+--------+\n",
      "|(NOT OD && en_ex)|sum(count)|sum(len)|\n",
      "+-----------------+----------+--------+\n",
      "|             true|   85377.5|   45737|\n",
      "|            false|  151180.0|   82288|\n",
      "+-----------------+----------+--------+\n",
      "\n"
     ]
    }
   ],
   "source": [
    "df.groupby(~ df['OD'] & df['en_ex']).sum().show()"
   ]
  },
  {
   "cell_type": "code",
   "execution_count": 56,
   "metadata": {},
   "outputs": [
    {
     "name": "stdout",
     "output_type": "stream",
     "text": [
      "+--------------------------------+----------+--------+\n",
      "|((NOT OD && en_ex) && (len = 2))|sum(count)|sum(len)|\n",
      "+--------------------------------+----------+--------+\n",
      "|                            true|   53265.0|    1936|\n",
      "|                           false|  183292.5|  126089|\n",
      "+--------------------------------+----------+--------+\n",
      "\n"
     ]
    }
   ],
   "source": [
    "df.groupby(~ df['OD'] & df['en_ex'] & (df['len'] == 2)).sum().show()"
   ]
  },
  {
   "cell_type": "code",
   "execution_count": null,
   "metadata": {},
   "outputs": [],
   "source": []
  }
 ],
 "metadata": {
  "kernelspec": {
   "display_name": "Python 2",
   "language": "python",
   "name": "python2"
  },
  "language_info": {
   "codemirror_mode": {
    "name": "ipython",
    "version": 2
   },
   "file_extension": ".py",
   "mimetype": "text/x-python",
   "name": "python",
   "nbconvert_exporter": "python",
   "pygments_lexer": "ipython2",
   "version": "2.7.12"
  }
 },
 "nbformat": 4,
 "nbformat_minor": 2
}
