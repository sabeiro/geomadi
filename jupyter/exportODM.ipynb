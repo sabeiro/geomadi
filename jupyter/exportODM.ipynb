{
 "cells": [
  {
   "cell_type": "markdown",
   "metadata": {},
   "source": [
    "# Telia Workshop: Day 2\n",
    "\n",
    "## Agenda\n",
    "\n",
    "### 1.ODM intro -> slides\n",
    "### 2. Loading results of ODM processing step 1-3\n",
    "### 3. Exporting ODM results\n",
    "### 4. Visualizing ODM in qgis\n",
    "### 5. Producing via-filters\n",
    "### 6. Additional analyses\n"
   ]
  },
  {
   "cell_type": "code",
   "execution_count": 1,
   "metadata": {
    "collapsed": true
   },
   "outputs": [],
   "source": [
    "import sys\n",
    "\n",
    "import csv\n",
    "import json\n",
    "import time\n",
    "import datetime\n",
    "from geopy.distance import great_circle\n",
    "from ast import literal_eval\n",
    "import pandas as pd\n",
    "import numpy as np\n",
    "import mzgeohash\n",
    "import geohash\n",
    "from pyspark.sql import SQLContext\n",
    "from pyspark.sql.types import *\n",
    "import glob\n",
    "import pyspark.sql.functions as func\n",
    "from pyspark.sql.functions import udf\n"
   ]
  },
  {
   "cell_type": "code",
   "execution_count": 2,
   "metadata": {
    "collapsed": true
   },
   "outputs": [],
   "source": [
    "#define path\n",
    "datadir=\"/telia_se/\"\n",
    "resultsdir=\"./../results/\"\n",
    "qgisdir=\"./../qgis/\"\n",
    "tabledir=\"./../additional_data/\"\n",
    "custom_result_dir=\"hdfs://master-1.telia.motionlogic.de:8020/telia_se/2017/custom_aggregations/odm_result/\""
   ]
  },
  {
   "cell_type": "markdown",
   "metadata": {},
   "source": [
    "## Loading results of ODM processing step 1-3\n",
    "### 2.1. Aggregator output"
   ]
  },
  {
   "cell_type": "code",
   "execution_count": 3,
   "metadata": {
    "collapsed": false
   },
   "outputs": [
    {
     "name": "stdout",
     "output_type": "stream",
     "text": [
      "loading aggregator outout for /2016/11/15/\n",
      "number of subscribers: 2588333\n",
      "+--------------------+--------------------+----------------+----------------+--------------------+----+\n",
      "|         area_id_arr|         cell_id_arr|      crm_fields|    other_fields|       timestamp_arr|IMSI|\n",
      "+--------------------+--------------------+----------------+----------------+--------------------+----+\n",
      "|[17, 17, 17, 17, ...|[25917727, 257623...|Map(dummy -> -1)|Map(dummy -> -1)|[1479177720, 1479...|   0|\n",
      "|[57, 57, 57, 57, ...|[563, 563, 563, 5...|Map(dummy -> -1)|Map(dummy -> -1)|[1479168480, 1479...|   1|\n",
      "|[235, 235, 235, 2...|[15481, 15481, 15...|Map(dummy -> -1)|Map(dummy -> -1)|[1479174600, 1479...|   2|\n",
      "|[833, 833, 833, 8...|[106443, 106443, ...|Map(dummy -> -1)|Map(dummy -> -1)|[1479168360, 1479...|   3|\n",
      "|[25, 25, 25, 25, ...|[27272223, 272722...|Map(dummy -> -1)|Map(dummy -> -1)|[1479168120, 1479...|   4|\n",
      "|[4630, 4630, 152,...|[2644, 2644, 1043...|Map(dummy -> -1)|Map(dummy -> -1)|[1479173460, 1479...|   5|\n",
      "|[235, 235, 235, 2...|[381, 381, 381, 3...|Map(dummy -> -1)|Map(dummy -> -1)|[1479172440, 1479...|   6|\n",
      "|[9016, 9016, 4516...|[59482, 59482, 55...|Map(dummy -> -1)|Map(dummy -> -1)|[1479197400, 1479...|   7|\n",
      "|[137, 137, 83, 13...|[26459680, 264596...|Map(dummy -> -1)|Map(dummy -> -1)|[1479199200, 1479...|   8|\n",
      "|[100, 100, 100, 1...|[105245, 105245, ...|Map(dummy -> -1)|Map(dummy -> -1)|[1479169500, 1479...|   9|\n",
      "|[63, 63, 63, 24, ...|[1671, 1671, 1671...|Map(dummy -> -1)|Map(dummy -> -1)|[1479190860, 1479...|  10|\n",
      "|[115, 115, 115, 1...|[100790, 100790, ...|Map(dummy -> -1)|Map(dummy -> -1)|[1479169260, 1479...|  11|\n",
      "|[2, 2, 2, 2, 2, 2...|[100733, 100733, ...|Map(dummy -> -1)|Map(dummy -> -1)|[1479168240, 1479...|  12|\n",
      "|              [1015]|             [41011]|Map(dummy -> -1)|Map(dummy -> -1)|        [1479203520]|  13|\n",
      "|[101, 101, 101, 1...|[105358, 26971669...|Map(dummy -> -1)|Map(dummy -> -1)|[1479168000, 1479...|  14|\n",
      "|[83, 83, 83, 83, ...|[6542, 6542, 6542...|Map(dummy -> -1)|Map(dummy -> -1)|[1479170880, 1479...|  15|\n",
      "|[4012, 4012, 23, ...|[45431, 45431, 10...|Map(dummy -> -1)|Map(dummy -> -1)|[1479203940, 1479...|  16|\n",
      "|[245, 245, 245, 2...|[12911, 12911, 12...|Map(dummy -> -1)|Map(dummy -> -1)|[1479168840, 1479...|  17|\n",
      "|[24, 24, 24, 24, ...|[10417, 10417, 10...|Map(dummy -> -1)|Map(dummy -> -1)|[1479179820, 1479...|  18|\n",
      "|[38, 38, 38, 38, ...|[102635, 102635, ...|Map(dummy -> -1)|Map(dummy -> -1)|[1479168120, 1479...|  19|\n",
      "+--------------------+--------------------+----------------+----------------+--------------------+----+\n",
      "only showing top 20 rows\n",
      "\n"
     ]
    }
   ],
   "source": [
    "#load aggregator output\n",
    "df=sqlContext.read.parquet(\"/telia_se/2016/11/15/aggregated_events\")\n",
    "\n",
    "print \"loading aggregator outout for /2016/11/15/\"\n",
    "print \"number of subscribers: \" + str(df.count())\n",
    "df.show()"
   ]
  },
  {
   "cell_type": "markdown",
   "metadata": {},
   "source": [
    "## Loading results of ODM processing step 1-3\n",
    "### 2.2. odm raw"
   ]
  },
  {
   "cell_type": "code",
   "execution_count": 5,
   "metadata": {
    "collapsed": false
   },
   "outputs": [
    {
     "name": "stdout",
     "output_type": "stream",
     "text": [
      "loading raw trips for /2016/11/15/\n",
      "number of trips: 2591816\n",
      "+--------------------+----+----------+---------+----------+---------+----------------+----------------+\n",
      "|               steps|IMSI|home_cilac| distance|  duration|    speed|      crm_fields|    other_fields|\n",
      "+--------------------+----+----------+---------+----------+---------+----------------+----------------+\n",
      "|[Map(timestamp ->...|   0|34547-4650|34.372818| 2.0622222|16.667852|Map(dummy -> -1)|Map(dummy -> -1)|\n",
      "|[Map(timestamp ->...|   0|34547-4650| 5.378944|0.35555556| 15.12828|Map(dummy -> -1)|Map(dummy -> -1)|\n",
      "|[Map(timestamp ->...|   1|    643-57|11.786726|0.53555554| 22.00841|Map(dummy -> -1)|Map(dummy -> -1)|\n",
      "|[Map(timestamp ->...|   6|  444-4640|31.396418|      0.32| 98.11381|Map(dummy -> -1)|Map(dummy -> -1)|\n",
      "|[Map(timestamp ->...|   6|  444-4640| 38.91192| 0.5258333| 74.00047|Map(dummy -> -1)|Map(dummy -> -1)|\n",
      "|[Map(timestamp ->...|   7| 5513-4516|3.5990005| 0.5688889| 6.326368|Map(dummy -> -1)|Map(dummy -> -1)|\n",
      "|[Map(timestamp ->...|   9|  14362-73| 7.394689| 3.4133334|2.1664128|Map(dummy -> -1)|Map(dummy -> -1)|\n",
      "|[Map(timestamp ->...|  10|   1671-63| 39.41329| 1.7363889|22.698421|Map(dummy -> -1)|Map(dummy -> -1)|\n",
      "|[Map(timestamp ->...|  10|   1671-63| 39.41329|  6.236111| 6.320171|Map(dummy -> -1)|Map(dummy -> -1)|\n",
      "|[Map(timestamp ->...|  14|   5053-37|11.742626| 1.2444445| 9.436039|Map(dummy -> -1)|Map(dummy -> -1)|\n",
      "|[Map(timestamp ->...|  14|   5053-37|3.6573544| 1.3155556|2.7800837|Map(dummy -> -1)|Map(dummy -> -1)|\n",
      "|[Map(timestamp ->...|  14|   5053-37| 5.087819|0.35555556|14.309491|Map(dummy -> -1)|Map(dummy -> -1)|\n",
      "|[Map(timestamp ->...|  16|45431-4012|14.708542| 5.7436113|2.5608528|Map(dummy -> -1)|Map(dummy -> -1)|\n",
      "|[Map(timestamp ->...|  19| 24232-122|22.857824|  2.808889| 8.137674|Map(dummy -> -1)|Map(dummy -> -1)|\n",
      "|[Map(timestamp ->...|  25|  3151-104|4.4989266| 0.5711111| 7.877498|Map(dummy -> -1)|Map(dummy -> -1)|\n",
      "|[Map(timestamp ->...|  29| 5676-4610| 8.665882| 0.2211111| 39.19243|Map(dummy -> -1)|Map(dummy -> -1)|\n",
      "|[Map(timestamp ->...|  29| 5676-4610| 8.896948|0.28444445|31.278334|Map(dummy -> -1)|Map(dummy -> -1)|\n",
      "|[Map(timestamp ->...|  29| 5676-4610| 8.896948|0.44527778|19.980669|Map(dummy -> -1)|Map(dummy -> -1)|\n",
      "|[Map(timestamp ->...|  32|49381-1507|1.3617772|    1.1175|1.2185925|Map(dummy -> -1)|Map(dummy -> -1)|\n",
      "|[Map(timestamp ->...|  32|49381-1507| 6.207293| 0.8472222|7.3266406|Map(dummy -> -1)|Map(dummy -> -1)|\n",
      "+--------------------+----+----------+---------+----------+---------+----------------+----------------+\n",
      "only showing top 20 rows\n",
      "\n"
     ]
    }
   ],
   "source": [
    "#load odm raw\n",
    "df=sqlContext.read.parquet(\"/telia_se/2016/11/15/odm_raw_return\")\n",
    "\n",
    "print \"loading raw trips for /2016/11/15/\"\n",
    "print \"number of trips: \" + str(df.count())\n",
    "\n",
    "df.show()"
   ]
  },
  {
   "cell_type": "code",
   "execution_count": 6,
   "metadata": {
    "collapsed": false
   },
   "outputs": [
    {
     "name": "stdout",
     "output_type": "stream",
     "text": [
      "one event: \n",
      "{u'had_coord': u'true', u'timestamp': u'1479227392', u'cell_id': u'632-235'}\n",
      "******\n",
      "one trip:, length:  17 events\n",
      "[{u'had_coord': u'true', u'timestamp': u'1479227392', u'cell_id': u'632-235'}, {u'had_coord': u'false', u'timestamp': u'1479227437', u'cell_id': u'10204-131'}, {u'had_coord': u'false', u'timestamp': u'1479227437', u'cell_id': u'10204-131'}, {u'had_coord': u'false', u'timestamp': u'1479227438', u'cell_id': u'10204-131'}, {u'had_coord': u'true', u'timestamp': u'1479229312', u'cell_id': u'6580-4640'}, {u'had_coord': u'true', u'timestamp': u'1479229312', u'cell_id': u'6580-4640'}, {u'had_coord': u'true', u'timestamp': u'1479229312', u'cell_id': u'6580-4640'}, {u'had_coord': u'false', u'timestamp': u'1479229312', u'cell_id': u'26124044-235'}, {u'had_coord': u'true', u'timestamp': u'1479229312', u'cell_id': u'6580-4640'}, {u'had_coord': u'true', u'timestamp': u'1479229347', u'cell_id': u'6580-4640'}, {u'had_coord': u'true', u'timestamp': u'1479229350', u'cell_id': u'6580-4640'}, {u'had_coord': u'true', u'timestamp': u'1479229350', u'cell_id': u'6580-4640'}, {u'had_coord': u'false', u'timestamp': u'1479229418', u'cell_id': u'10089-131'}, {u'had_coord': u'false', u'timestamp': u'1479229418', u'cell_id': u'10089-131'}, {u'had_coord': u'true', u'timestamp': u'1479229440', u'cell_id': u'6580-4640'}, {u'had_coord': u'false', u'timestamp': u'1479229440', u'cell_id': u'26124044-235'}, {u'had_coord': u'true', u'timestamp': u'1479229440', u'cell_id': u'47371-8015'}]\n"
     ]
    }
   ],
   "source": [
    "df_trips=df.limit(10).select(\"steps\").rdd.flatMap(lambda x: x).collect()\n",
    "print \"one event: \"\n",
    "print df_trips[0][0]\n",
    "print \"******\"\n",
    "print \"one trip:, length:  \" + str(len(df_trips[0])) + \" events\"\n",
    "print df_trips[0]\n",
    "\n"
   ]
  },
  {
   "cell_type": "markdown",
   "metadata": {},
   "source": [
    "## Loading results of ODM processing step 1-3\n",
    "### 2.3. odm agg"
   ]
  },
  {
   "cell_type": "code",
   "execution_count": 7,
   "metadata": {
    "collapsed": false
   },
   "outputs": [
    {
     "name": "stdout",
     "output_type": "stream",
     "text": [
      "loading raw trips for /2016/11/15/\n",
      "number of entries: 2518171\n",
      "+-------------+--------------------+-----------+\n",
      "|cilac_in_list|        od_hours_key|cell_counts|\n",
      "+-------------+--------------------+-----------+\n",
      "|        false|[1652-72,4731-62,...|          1|\n",
      "|        false|[38898-4650,24463...|          1|\n",
      "|        false|[33000-4670,12462...|          1|\n",
      "|        false|[11953-265,47750-...|          1|\n",
      "|         true|[1091-62,6322-232...|          1|\n",
      "|        false|[17611-47,361-47,...|          1|\n",
      "|        false|[2256-4630,2261-4...|          1|\n",
      "|        false|[11672-255,12411-...|          1|\n",
      "|        false|[24742-172,3317-4...|          1|\n",
      "|        false|[6269-4640,3633-2...|          1|\n",
      "|        false|[17673-205,4431-1...|          1|\n",
      "|        false|[3482-252,2782-11...|          1|\n",
      "|        false|[21163-245,35245-...|          1|\n",
      "|        false|[5562-222,211-102...|          1|\n",
      "|        false|[1401-122,24583-6...|          1|\n",
      "|        false|[56440-2527,3873-...|          1|\n",
      "|        false|[6673-56,44581-20...|          2|\n",
      "|        false|[37085-4670,1283-...|          1|\n",
      "|        false|[38465-4670,7221-...|          1|\n",
      "|        false|[57200-1027,57150...|          2|\n",
      "+-------------+--------------------+-----------+\n",
      "only showing top 20 rows\n",
      "\n"
     ]
    }
   ],
   "source": [
    "#load odm agg\n",
    "df=sqlContext.read.parquet(\"/telia_se/2016/11/15/odm_agg_filtered/cil_od\")\n",
    "\n",
    "print \"loading raw trips for /2016/11/15/\"\n",
    "print \"number of entries: \" + str(df.count())\n",
    "\n",
    "df.show()"
   ]
  },
  {
   "cell_type": "markdown",
   "metadata": {
    "collapsed": true
   },
   "source": [
    "## Loading results of ODM processing step 1-3\n",
    "### 2.4. odm results"
   ]
  },
  {
   "cell_type": "code",
   "execution_count": null,
   "metadata": {
    "collapsed": false
   },
   "outputs": [],
   "source": [
    "#load odm results output\n",
    "df=sqlContext.read.parquet(\"/telia_se/2017/09/06/odm_result/Telia_SE_MLTC_single_sum\")\n",
    "print \"loading output of step 3 (odm_result) for /2017/09/06/\"\n",
    "\n",
    "print \"number of entries: \" + str(df.count())\n",
    "\n",
    "df.show()"
   ]
  },
  {
   "cell_type": "markdown",
   "metadata": {
    "collapsed": true
   },
   "source": [
    "## 3. Export ODM results\n"
   ]
  },
  {
   "cell_type": "code",
   "execution_count": 4,
   "metadata": {
    "collapsed": false
   },
   "outputs": [],
   "source": [
    "#save results of custom ODM aggregation\n",
    "\n",
    "\n",
    "fn=\"custom_odm_result_application_1484842313350_0655\"\n",
    "df=sqlContext.read.parquet(custom_result_dir+fn)\n",
    "ch=df.toPandas()\n",
    "ch.to_csv(resultsdir+fn+\".csv\",index=False)\n"
   ]
  },
  {
   "cell_type": "code",
   "execution_count": 5,
   "metadata": {
    "collapsed": false
   },
   "outputs": [
    {
     "name": "stdout",
     "output_type": "stream",
     "text": [
      "  cilac_in_list  count destination origin time_destination time_origin\n",
      "0         False      8        8564   6186            00-24       00-24\n",
      "1          True     29        8073   7930            00-24       00-24\n",
      "2         False     93        5091   4852            00-24       00-24\n",
      "\n",
      "[3 rows x 6 columns]\n"
     ]
    }
   ],
   "source": [
    "print ch.head(3)"
   ]
  },
  {
   "cell_type": "markdown",
   "metadata": {},
   "source": [
    "## 4. Visualization in QGIS"
   ]
  },
  {
   "cell_type": "code",
   "execution_count": 10,
   "metadata": {
    "collapsed": true
   },
   "outputs": [],
   "source": [
    "#load BSE centroids\n",
    "cc=pd.read_csv(tabledir+\"BSE_south_centroids.csv\")\n",
    "#load centroids of Traffic cells\n",
    "vz=pd.read_csv(tabledir+\"Traffic_cells_south_Centroids.csv\")\n",
    "\n"
   ]
  },
  {
   "cell_type": "code",
   "execution_count": 35,
   "metadata": {
    "collapsed": false
   },
   "outputs": [],
   "source": [
    "print save ODM results as qgis-readable textfile\n",
    "#make qgis\n",
    "fn=\"custom_odm_result_application_1484842313350_0655\"\n",
    "\n",
    "dff=pd.read_csv(resultsdir+fn+\".csv\")\n",
    "dff=pd.merge(dff,vz,left_on=\"origin\",right_on=\"TrafficCel\")\n",
    "dff=pd.merge(dff,vz,left_on=\"destination\",right_on=\"TrafficCel\")\n",
    "if \"cilac_in_list\" in dff.columns:\n",
    "    with open (qgisdir+fn+'.txt','w') as f:\n",
    "        f.write(\"origin | destination | Geom | departure| arrival | cilac_in_list | count\\n \")\n",
    "        for c in range (0,len(dff)):                        \n",
    "            f.write(str(dff[\"origin\"][c]) + '|' + str(dff[\"destination\"][c]) + '|' +\\\n",
    "                    \"LINESTRING (\" + str(dff[\"X_x\"][c])+ ' ' + str(dff[\"Y_x\"][c])+','\\\n",
    "                    + str(dff[\"X_y\"][c])+ ' ' + str(dff[\"Y_y\"][c])+ \")\"\\\n",
    "                    + '|'+ str(dff[\"time_origin\"][c])\\\n",
    "                    + '|'+ str(dff[\"time_destination\"][c])\\\n",
    "                    + '|'+ str(dff[\"cilac_in_list\"][c])\\\n",
    "                    + '|'+ str(dff[\"count\"][c]) +'\\n')\n",
    "\n",
    "else:  \n",
    "\n",
    "    with open (qgisdir+fn+'.txt','w') as f:\n",
    "        f.write(\"origin | destination | Geom | departure| arrival | count\\n \")\n",
    "        for c in range (0,len(dff)):                        \n",
    "            f.write(str(dff[\"origin\"][c]) + '|' + str(dff[\"destination\"][c]) + '|' +\\\n",
    "                    \"LINESTRING (\" + str(dff[\"X_x\"][c])+ ' ' + str(dff[\"Y_x\"][c])+','\\\n",
    "                    + str(dff[\"X_y\"][c])+ ' ' + str(dff[\"Y_y\"][c])+ \")\"\\\n",
    "                    + '|'+ str(dff[\"time_origin\"][c])\\\n",
    "                    + '|'+ str(dff[\"time_destination\"][c])\\\n",
    "                    + '|'+ str(dff[\"count\"][c]) +'\\n')\n"
   ]
  },
  {
   "cell_type": "markdown",
   "metadata": {},
   "source": [
    "## 4. Producing via-filters"
   ]
  },
  {
   "cell_type": "code",
   "execution_count": 13,
   "metadata": {
    "collapsed": true
   },
   "outputs": [],
   "source": [
    "#some functions\n",
    "def make_geohash(p):\n",
    "    return geohash.encode(p[0],p[1])\n",
    "def get_geohash_neighbours(gh,precision):    \n",
    "    return mzgeohash.neighbors(gh[0:precision]).values()\n",
    "    \n",
    "def compare_geohash(gh_list,precision,long_gh):\n",
    "    res=[i for i in gh_list if i[:precision]==long_gh[:precision]]\n",
    "    if len(res)>0:\n",
    "        return True\n",
    "    else:\n",
    "        return False\n",
    "def cell_finder(p,precision=5,maxdist=3):\n",
    "    gh=make_geohash(p)\n",
    "    gh_list=get_geohash_neighbours(gh,precision)\n",
    "    temp=cc.copy()\n",
    "    temp[\"in\"]=temp.apply(lambda row:compare_geohash(gh_list,precision,row.geohash),axis=1)\n",
    "    temp=temp[temp[\"in\"]==True]\n",
    "    temp[\"dist\"]=temp.apply(lambda row:great_circle((p[0],p[1]),(row.X,row.Y)).km,axis=1)\n",
    "    temp=temp[temp[\"dist\"]<=maxdist]\n",
    "    return list(temp[\"CI-LAC\"].values)\n"
   ]
  },
  {
   "cell_type": "code",
   "execution_count": 16,
   "metadata": {
    "collapsed": false
   },
   "outputs": [
    {
     "name": "stdout",
     "output_type": "stream",
     "text": [
      "893\n",
      "893 mobile cells found in distance 2 km  from location (lat 18.0792, long 59.2986)\n",
      "upload file to appliance and specify path in config\n"
     ]
    }
   ],
   "source": [
    "#ODM via preparation: find target cell according to radius around location\n",
    "#select cells in radius of maxd km\n",
    "cell_list_name=\"via_location_1.csv\"\n",
    "\n",
    "#Gullmarsplan\n",
    "t1=[18.0792,59.2986]\n",
    "\n",
    "maxd=2\n",
    "via_cells1=cell_finder(t1,5,maxd)\n",
    "print len(via_cells1)\n",
    "print str(len(via_cells1))+ \" mobile cells found in distance \" + str(maxd) + \" km  from location (lat \" +  str(t1[0]) + \", long \"+ str(t1[1])+\")\"\n",
    "fc=pd.DataFrame(via_cells1)\n",
    "fc.to_csv(resultsdir+cell_list_name,index=False)\n",
    "\n",
    "print \"upload file to appliance and specify path in config\""
   ]
  }
 ],
 "metadata": {
  "kernelspec": {
   "display_name": "Apache Toree - PySpark",
   "language": "python",
   "name": "apache_toree_pyspark"
  },
  "language_info": {
   "name": "scala",
   "version": "2.10.4"
  }
 },
 "nbformat": 4,
 "nbformat_minor": 2
}
